{
 "cells": [
  {
   "cell_type": "code",
   "execution_count": 1,
   "metadata": {},
   "outputs": [],
   "source": [
    "import os\n",
    "import sys\n",
    "import numpy as np\n",
    "import pandas as pd\n",
    "import matplotlib.pyplot as plt\n",
    "\n",
    "NumberOfRows = 10000\n",
    "\n",
    "filePath = '../Downloads/'\n",
    "pd.set_option('display.max_columns', None)\n",
    "%matplotlib inline"
   ]
  },
  {
   "cell_type": "code",
   "execution_count": 2,
   "metadata": {},
   "outputs": [],
   "source": [
    "import numpy as np\n",
    "import tensorflow as tf\n",
    "import time\n",
    "from tqdm import tqdm\n",
    "from sklearn.metrics import roc_auc_score, accuracy_score\n",
    "import scipy.sparse as sp"
   ]
  },
  {
   "cell_type": "code",
   "execution_count": 3,
   "metadata": {},
   "outputs": [],
   "source": [
    "businuessColumns = ['state', 'business_id'] #'review_count', 'stars', \n",
    "userColumns = [\"user_id\", \"useful\", \"fans\", \"funny\", \"cool\", \"average_stars\", \"review_count\"] #, \"elite\", \"compliment_photos\", \"compliment_list\", \"compliment_funny\", \"compliment_plain\", \"compliment_note\", \"compliment_writer\", \"compliment_cute\", \"compliment_more\", \"compliment_hot\", \"compliment_profile\", \"compliment_cool\",\n",
    "ratingsColumns = [\"business_id\", \"stars\", \"user_id\"] #\"cool\", \"funny\", \"useful\", \n",
    "targetColumn = \"stars\""
   ]
  },
  {
   "cell_type": "code",
   "execution_count": 4,
   "metadata": {},
   "outputs": [],
   "source": [
    "business = pd.read_csv(filePath + \"business_cleaned.csv\", usecols=businuessColumns)\n",
    "user = pd.read_csv(filePath + 'user_cleaned.csv', usecols=userColumns)\n",
    "ratings = pd.read_csv(filePath + 'yelp_ratings.csv', usecols=ratingsColumns, nrows=NumberOfRows)"
   ]
  },
  {
   "cell_type": "code",
   "execution_count": 5,
   "metadata": {},
   "outputs": [
    {
     "name": "stdout",
     "output_type": "stream",
     "text": [
      "158525\n",
      "158525\n",
      "818922\n",
      "818922\n"
     ]
    }
   ],
   "source": [
    "print(business['business_id'].nunique())\n",
    "print(business['business_id'].drop_duplicates().shape[0])\n",
    "\n",
    "print(user['user_id'].nunique())\n",
    "print(user['user_id'].drop_duplicates().shape[0])"
   ]
  },
  {
   "cell_type": "code",
   "execution_count": 6,
   "metadata": {},
   "outputs": [],
   "source": [
    "ratings = pd.merge(ratings, business, how='left', left_on='business_id', right_on='business_id')\n",
    "ratings = pd.merge(ratings, user, how='left', left_on='user_id', right_on='user_id')"
   ]
  },
  {
   "cell_type": "code",
   "execution_count": 7,
   "metadata": {},
   "outputs": [],
   "source": [
    "ratings['business_id'] = ratings['business_id'].astype('category')\n",
    "ratings['business_id'] = ratings['business_id'].cat.codes\n",
    "\n",
    "ratings['user_id'] = ratings['user_id'].astype('category')\n",
    "ratings['user_id'] = ratings['user_id'].cat.codes"
   ]
  },
  {
   "cell_type": "code",
   "execution_count": 8,
   "metadata": {},
   "outputs": [],
   "source": [
    "def convertDummies(df, column_name):\n",
    "    df = pd.concat([\n",
    "        df.drop(column_name, axis=1),\n",
    "        pd.get_dummies(df[column_name], prefix=column_name+'_')\n",
    "    ], axis=1)\n",
    "    print(column_name, ' is ready.')\n",
    "    return df"
   ]
  },
  {
   "cell_type": "code",
   "execution_count": 9,
   "metadata": {},
   "outputs": [
    {
     "name": "stdout",
     "output_type": "stream",
     "text": [
      "business_id  is ready.\n",
      "user_id  is ready.\n",
      "state  is ready.\n"
     ]
    }
   ],
   "source": [
    "ratings = convertDummies(ratings, 'business_id')\n",
    "ratings = convertDummies(ratings, 'user_id')\n",
    "ratings = convertDummies(ratings, 'state')"
   ]
  },
  {
   "cell_type": "code",
   "execution_count": 10,
   "metadata": {},
   "outputs": [],
   "source": [
    "train_X = ratings.drop(targetColumn, axis=1).iloc[:-2000]\n",
    "train_y = ratings[targetColumn].iloc[:-2000]\n",
    "\n",
    "test_X = ratings.drop(targetColumn, axis=1).iloc[-2000:]\n",
    "test_y = ratings[targetColumn].iloc[-2000:]"
   ]
  },
  {
   "cell_type": "code",
   "execution_count": null,
   "metadata": {},
   "outputs": [],
   "source": []
  },
  {
   "cell_type": "code",
   "execution_count": null,
   "metadata": {},
   "outputs": [],
   "source": []
  },
  {
   "cell_type": "code",
   "execution_count": 11,
   "metadata": {},
   "outputs": [],
   "source": [
    "tr_X = train_X.to_numpy()\n",
    "tr_y = train_y.to_numpy()\n",
    "te_X = test_X.to_numpy()\n",
    "te_y = test_y.to_numpy()\n",
    "X_tr_sparse = sp.csr_matrix(tr_X)\n",
    "X_te_sparse = sp.csr_matrix(te_X)"
   ]
  },
  {
   "cell_type": "code",
   "execution_count": null,
   "metadata": {},
   "outputs": [],
   "source": []
  },
  {
   "cell_type": "code",
   "execution_count": 25,
   "metadata": {},
   "outputs": [
    {
     "name": "stderr",
     "output_type": "stream",
     "text": [
      "100%|██████████| 50/50 [00:03<00:00, 14.32epoch/s]\n"
     ]
    }
   ],
   "source": [
    "from tffm import TFFMRegressor\n",
    "from sklearn.metrics import mean_squared_error\n",
    "\n",
    "model = TFFMRegressor(\n",
    "    order=3, \n",
    "    rank=10, \n",
    "    optimizer=tf.train.AdamOptimizer(learning_rate=0.001), \n",
    "    n_epochs=50, \n",
    "    batch_size=800,\n",
    "    init_std=0.001,\n",
    "    input_type='sparse',\n",
    ")\n",
    "model.fit(X_tr_sparse, tr_y, show_progress=True)"
   ]
  },
  {
   "cell_type": "code",
   "execution_count": 26,
   "metadata": {},
   "outputs": [
    {
     "name": "stdout",
     "output_type": "stream",
     "text": [
      "[order=3] accuracy: 0.0395\n",
      "147876.61413434893\n"
     ]
    }
   ],
   "source": [
    "predictions = model.predict(X_te_sparse )\n",
    "from sklearn.metrics import mean_squared_error\n",
    "print('[order={}] accuracy: {}'.format(3, accuracy_score(te_y, predictions > 0)))\n",
    "print(mean_squared_error(te_y,predictions))"
   ]
  },
  {
   "cell_type": "code",
   "execution_count": 27,
   "metadata": {},
   "outputs": [
    {
     "data": {
      "text/plain": [
       "array([-3.3405628 , -0.77704525,  0.0748506 , ..., -0.8060788 ,\n",
       "       -0.04460888, -0.5346799 ], dtype=float32)"
      ]
     },
     "execution_count": 27,
     "metadata": {},
     "output_type": "execute_result"
    }
   ],
   "source": [
    "predictions"
   ]
  },
  {
   "cell_type": "code",
   "execution_count": 28,
   "metadata": {},
   "outputs": [
    {
     "data": {
      "text/plain": [
       "array([-33.40563   ,  -7.7704525 ,   0.74850595, ...,  -8.060788  ,\n",
       "        -0.4460888 ,  -5.346799  ], dtype=float32)"
      ]
     },
     "execution_count": 28,
     "metadata": {},
     "output_type": "execute_result"
    }
   ],
   "source": [
    "predictions*10"
   ]
  },
  {
   "cell_type": "code",
   "execution_count": 29,
   "metadata": {},
   "outputs": [
    {
     "data": {
      "text/plain": [
       "array([5., 2., 1., ..., 2., 5., 4.])"
      ]
     },
     "execution_count": 29,
     "metadata": {},
     "output_type": "execute_result"
    }
   ],
   "source": [
    "tr_y"
   ]
  },
  {
   "cell_type": "code",
   "execution_count": null,
   "metadata": {},
   "outputs": [],
   "source": []
  }
 ],
 "metadata": {
  "kernelspec": {
   "display_name": "Python 3",
   "language": "python",
   "name": "python3"
  },
  "language_info": {
   "codemirror_mode": {
    "name": "ipython",
    "version": 3
   },
   "file_extension": ".py",
   "mimetype": "text/x-python",
   "name": "python",
   "nbconvert_exporter": "python",
   "pygments_lexer": "ipython3",
   "version": "3.7.3"
  }
 },
 "nbformat": 4,
 "nbformat_minor": 2
}
