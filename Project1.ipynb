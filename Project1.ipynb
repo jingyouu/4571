{
 "cells": [
  {
   "cell_type": "markdown",
   "metadata": {},
   "source": [
    "### IEORE 4571 Personalization Project 1###\n",
    "# Recommender System #\n",
    "****\n",
    "#### Zihui Zhou, zz2694@columbia.edu, zz2694 , Han Wang, hw2761@columbia.edu,  hw2761 ####\n",
    "#### Jing You, jy3035@columbia.edu, jy3035 ,Yi Ping Tseng, yt2690@columbia.edu,  yt2690 ####\n"
   ]
  },
  {
   "cell_type": "markdown",
   "metadata": {},
   "source": [
    "### 1. Background and Objectives ###\n",
    "$\\qquad$ Developing personalized recommendations based on customers’ behavior data has played an important role in the digital media industry, for which companies may retain loyal customer relationships and attract new customers in the long run. In a specific case, film recommendations are given to customers based on their previous ratings and reviews. In our project, we try to build a system to serve users by recommending movies they may like. We explore this topic through analyzing “ml-20m” dataset from MovieLens, a web-based movie recommendation system. The dataset consists of 20,000,263 five-star ratings across 27,278 movies created by 138,493 users between January 09, 1995 and March 31, 2015. We mainly focus on using explicit ratings data to make predictions on users’ ratings for unwatched films. Based on these rating predictions, we try to avoid suggesting only the most popular films and  recommend films with higher predicted ratings to users. \n",
    "\n",
    "$\\qquad$ During the analysis process, we’ve considered the following business rule: for the users who are new to the rating system and have a relatively small amount of ratings, the recommendation model will result in less accurate predictions and larger bias."
   ]
  },
  {
   "cell_type": "markdown",
   "metadata": {},
   "source": [
    "### 2. Data Analysis ###\n",
    "$\\qquad$ We would start approaching the problem by understanding our movielens-20m dataset. In this project, we are mainly using the ratings.csv. Each line of the csv file contains a rating of a movie from one user, where the ratings is rated on 1 to 5 scale and half score is allowed."
   ]
  },
  {
   "cell_type": "code",
   "execution_count": 1,
   "metadata": {},
   "outputs": [
    {
     "name": "stdout",
     "output_type": "stream",
     "text": [
      "The number unique of users is 138493\n",
      "The number of unique items is 26744\n",
      "The sparsity level is 99.5 %\n"
     ]
    },
    {
     "data": {
      "image/png": "[encoded data removed]",
      "text/plain": [
       "<Figure size 720x360 with 1 Axes>"
      ]
     },
     "metadata": {
      "needs_background": "light"
     },
     "output_type": "display_data"
    }
   ],
   "source": [
    "import pandas as pd\n",
    "import numpy as np\n",
    "import matplotlib.pylab as plt\n",
    "%matplotlib inline\n",
    "import seaborn as sns\n",
    "df = pd.read_csv('downloads/ml-20m/ratings.csv',sep = ',',usecols = ['userId','movieId','rating'])\n",
    "n_users = df['userId'].nunique()\n",
    "n_items = df['movieId'].nunique()\n",
    "sparsity = round(1.0-len(df)/float(n_users*n_items),3)\n",
    "print('The number unique of users is',n_users)\n",
    "print('The number of unique items is',n_items)\n",
    "print('The sparsity level is',sparsity*100,'%')\n",
    "\n",
    "fig, ax = plt.subplots(figsize=(10,5))\n",
    "fig = sns.distplot(df['movieId'])\n",
    "ax.set_ylabel('users that rated given movie')\n",
    "ax.set_xlabel('MovieID')\n",
    "ax.set_title('#Rating ditribution for each movie')\n",
    "plt.show()"
   ]
  },
  {
   "cell_type": "markdown",
   "metadata": {},
   "source": [
    "$\\qquad$ The number of unique users is 138493 and the number of unique items is 26744. We also note that the sparsity level is 99.5 %, which suggests that we have a highly sparse dataset. Then we plot the ratings for each movie and we can see some movies have been rated a lot while others don’t. It clearly raise concerns like those movies that have been rated a lot may be more likely to be recommended for all users."
   ]
  },
  {
   "cell_type": "markdown",
   "metadata": {},
   "source": [
    "### 3. Collaborative Filtering Algorithms ###\n",
    "$\\qquad$ intro"
   ]
  },
  {
   "cell_type": "markdown",
   "metadata": {},
   "source": [
    "### 3.1 Item-based collaborative filtering algorithm ###\n",
    "#### i. Data Preprocessing ####\n",
    "$\\qquad$ Taking business concerns into considerations, we filter the dataset by setting the following constraints on the dataset: we choose users who have rated over 3000 movies and popular movies which were rated over 15000 times. After filtering, 56 active users and 252 movies remain in the dataset."
   ]
  },
  {
   "cell_type": "code",
   "execution_count": null,
   "metadata": {},
   "outputs": [],
   "source": []
  },
  {
   "cell_type": "markdown",
   "metadata": {},
   "source": [
    "#### ii. Build item-item similarity matrix ####\n",
    "1. Build iterm-user matrix (index: item, column: user)\n",
    "2. Replace missing values ‘NAN’ with 0\n",
    "3. Calculate cosine similarity between two movies \n",
    "4. K-nearest neighbors algorithm: Find out the top N closest neighbors as peer set by using cosine similarity as distance"
   ]
  },
  {
   "cell_type": "code",
   "execution_count": null,
   "metadata": {},
   "outputs": [],
   "source": []
  },
  {
   "cell_type": "markdown",
   "metadata": {},
   "source": [
    "#### iii. Predict ratings of unrated films for selected users ####\n",
    "$\\qquad$ Predictions are calculated from the following equation: prediction rating equals the sum of item average rating and normalized weighted neighbors ratings using cosine similarity:  \n",
    "$$ p_{i,a} = \\overline{r}_{a} + \\frac{\\sum_{u\\in k}^{} (r_{u,i} - \\overline{r}_{u})\\times w_{a,u} }{\\sum_{u\\in k}^{} w_{a,u}}$$"
   ]
  },
  {
   "cell_type": "markdown",
   "metadata": {},
   "source": [
    "### 3.2 Model-based collaborative filtering algorithm ###\n",
    "$\\qquad$ Model-based collaborative filtering makes use of the matrix factorization algorithm to represent users preferences with vectors in lower dimensions. ALS model is one of those algorithms that decomposes user-item matrix into low rank user matrix and item matrix such that users and products are described by a small set of latent factors that can be used to predict missing entries. ALS is good at dealing with the sparsity of the data, which is suitable for our movielens dataset. \n"
   ]
  },
  {
   "cell_type": "code",
   "execution_count": null,
   "metadata": {},
   "outputs": [],
   "source": [
    "import os\n",
    "import pyspark\n",
    "from pyspark import SparkFiles\n",
    "from pyspark import SparkContext\n",
    "from pyspark.sql import SQLContext\n",
    "from pyspark.sql.functions import rand, col\n",
    "from pyspark.ml.recommendation import ALS\n",
    "from pyspark.ml.evaluation import RegressionEvaluator\n",
    "from pyspark.ml.tuning import ParamGridBuilder, TrainValidationSplit\n",
    "\n",
    "seed = 100\n",
    "sc = SparkContext()\n",
    "filePath = \"downloads/ml-20m/ratings.csv\"\n",
    "\n",
    "\n",
    "# read dataset into spark RDD\n",
    "sc.addFile(filePath)\n",
    "sqlContext = SQLContext(sc)\n",
    "df = sqlContext.read.csv(\n",
    "    SparkFiles.get(\"ratings.csv\"), \n",
    "    header=True, \n",
    "    inferSchema=True\n",
    ")\n",
    "\n",
    "sqlContext.registerDataFrameAsTable(df, \"df\")\n",
    "df = sqlContext.sql('''\n",
    "    SELECT \n",
    "        userId AS user, \n",
    "        movieId AS item,\n",
    "        rating\n",
    "    FROM df\n",
    "''')\n",
    "\n",
    "\n",
    "# adding uniform random numbers for train/validation/test set\n",
    "df = df.withColumn('TrainTest', rand(seed=seed))\n",
    "dftrain = df.where(col('TrainTest') < 0.75).drop(*[\"TrainTest\"])\n",
    "dftest = df.where(col('TrainTest') >= 0.75).drop(*[\"TrainTest\"])"
   ]
  },
  {
   "cell_type": "code",
   "execution_count": null,
   "metadata": {},
   "outputs": [],
   "source": [
    "rmse_list = []\n",
    "mae_list = []\n",
    "\n",
    "ranks = [20]\n",
    "regs = [0.05]\n",
    "rmse = RegressionEvaluator(metricName=\"rmse\", labelCol=\"rating\")\n",
    "mae = RegressionEvaluator(metricName=\"mae\", labelCol=\"rating\")\n",
    "\n",
    "for rank in ranks:\n",
    "    for reg in regs:\n",
    "        als = ALS(rank = rank,regParam = reg, nonnegative=True, checkpointInterval=3, coldStartStrategy=\"drop\")\n",
    "        \n",
    "        paramGrid = ParamGridBuilder()\\\n",
    "            .addGrid(als.rank, [rank]) \\\n",
    "            .addGrid(als.regParam, [reg])\\\n",
    "            .build()\n",
    "\n",
    "        tvs = TrainValidationSplit(\n",
    "            estimator=als,\n",
    "            evaluator=rmse,\n",
    "            estimatorParamMaps=paramGrid,\n",
    "            seed=seed,\n",
    "            trainRatio=0.66, # this ratio makes train:0.5 valid:0.25 and test:0.25\n",
    "            parallelism=6,\n",
    "        )\n",
    "\n",
    "        model = tvs.fit(dftrain)\n",
    "        testPred = model.transform(dftest)\n",
    "        error1 = rmse.evaluate(testPred)\n",
    "        error2 = mae.evaluate(testPred)\n",
    "        print('{} latent factors and regularization = {}: validation RMSE is {}，MAE is {}'.format(rank, reg, error1,error2))\n",
    "        rmse_list.append(error1)\n",
    "        mae_list.append(error2)"
   ]
  },
  {
   "cell_type": "markdown",
   "metadata": {},
   "source": [
    "### 3. Model Evaluation Methods ###\n",
    "#### i. Cross-validation setup####\n",
    "$\\qquad $ We use the train-validation-test setup to tune hyper parameters and evaluate the model performance. The ratio is 50% training, 25% validation, and 25% testing.  \n",
    "#### ii.Accuracy on training and test data ####\n",
    "$\\qquad$ For the evaluation of accuracy, we use the simplest baseline model. We predict the mean rating over the entire data set and calculate models’ accuracy using RMSE as the primary metric and MAE as the secondary metric. Then we use our collaborative filtering algorithm models to make predictions and calculate error to compare with the baseline model. The error on the training set is relatively smaller.\n",
    "#### iii.Coverage on training and test data ####\n",
    "$\\qquad$ We use user coverage to calculate coverage on training and test data. For every user, we try to create a top 10 recommendation list. We use baseline mean to define if a recommendation is good or not. If the absolute difference between the predicted rating and the true rating is smaller than the absolute difference between the mean and the true rating, we consider it a good recommendation. "
   ]
  },
  {
   "cell_type": "markdown",
   "metadata": {},
   "source": [
    "### 4. Model Performance ###\n",
    "$\\qquad$ We implement the root mean square error (RMSE) and mean absolute error (MAE) measurements in the memory-based model to evaluate its performance, while implementing RMSE in the model-based model. In order to achieve relatively better RMSE, we’ve performed grid search to tune the hyperparameters in each model."
   ]
  },
  {
   "cell_type": "markdown",
   "metadata": {},
   "source": [
    "### 4.1 Performance of Item-based collaborative filtering algorithm\n",
    "$\\qquad$ It is obvious that the size of the neighbourhood would affect the result of the prediction for the item-based model. In order to explore such effect, we vary the size of the neighbourhood as the following: 10, 20,30. Consequently, the resulting RMSE is 0.8196 , 0.6847, 0.6403. We observe that for out data, the increase number in the neighbourhood size leads to the increase in the model performance."
   ]
  },
  {
   "cell_type": "code",
   "execution_count": null,
   "metadata": {},
   "outputs": [],
   "source": []
  },
  {
   "cell_type": "markdown",
   "metadata": {},
   "source": [
    "$\\qquad$ After tuning the hyperparameters under each case, we conclude our models by choosing the best hyperparameters that minimize evaluation metrics. In the item-based memory-based model, the final RMSE is 0.7058404931062546 , and MAE is  0.6478214709289709. Comparing with the baseline RMSE: 1.0519832166584029 and baseline MAE: 0.840690943200106, it is lower by 33% and 23%."
   ]
  },
  {
   "cell_type": "markdown",
   "metadata": {},
   "source": [
    "### 4.2 Performance of Item-based collaborative filtering algorithm\n",
    "$\\qquad$ The number of latent dimensions used in the matrix factorization impacts our result of prediction. Increasing the number of latent dimensions would improve the predictions until the number is too high that the model tends to overfit. We vary the number of latent dimensions from the following: 5, 10, 20. In addition, since ALS uses L2 regularization, the regularization parameter used in the als model also impacts the prediction result. Increasing the regularization parameter would avoid overfitting but we also want to limit the parameter that it won’t cause a great increase in bias in the model. We vary the parameter of regularization from the following: 0.05, 0.01, 1. We tuned both parameters using a random sample size that is 0.1% of the complete data set. As we can see, under the same rank, the smaller the regularization the lower the error. "
   ]
  },
  {
   "cell_type": "code",
   "execution_count": null,
   "metadata": {},
   "outputs": [],
   "source": []
  },
  {
   "cell_type": "markdown",
   "metadata": {},
   "source": [
    "$\\qquad$ Under the model-based model-based model, the final RMSE is 0.7953830458336725,  and MAE is 0.6172952042333186. Comparing with the baseline RMSE and baseline MAE, it is lower by 25% and 26% "
   ]
  },
  {
   "cell_type": "markdown",
   "metadata": {},
   "source": [
    "### 4.2 Model size variation\n",
    "$\\qquad$ For different sample size, it is reasonable for models to have different performance. In order to understand how the evaluation metric change with the training set size, we modified the training set size as 1%, 10%,  30%, 50%  of the entire dataset size. According to our experiments, the overall accuracy changes over different training set sizes: the model with larger training set size has a higher accuracy (smaller RMSE) but requires a longer training time."
   ]
  },
  {
   "cell_type": "markdown",
   "metadata": {},
   "source": [
    "### 5. Concolusion\n",
    "#### i. Result ####\n",
    "$\\qquad$ After tuning the hyperparameters under each case, we conclude our models by choosing the best hyperparameters that minimize evaluation metrics. In the item-based memory-based model, the final RMSE is 0.7058404931062546 , and MAE is  0.6478214709289709. Comparing with the baseline RMSE: 1.0519832166584029 and baseline MAE: 0.840690943200106, it is lower by 33% and 23%.  Under the model-based model-based model, the final RMSE is 0.7953830458336725,  and MAE is 0.6172952042333186. Comparing with the baseline RMSE and baseline MAE, it is lower by 25% and 26%  . Therefore, we meet our hypothetical objectives.\n",
    "#### ii. Limitations ####\n",
    "$\\qquad$ However, there are some business concerns that need to be taken into consideration when making predictions and recommendations based on the MovieLens dataset. Some users have rated many more films and the ratings range over 10 years. Considering that users’ preferences change over time, more recent ratings would be more important for predictions compared with the previous ones. Therefore, bias may exist if the model gives each rating the same weight. For the current model we leave out the consideration on timestamp and give all the ratings the same weight. To improve the model furtherly, we can give a higher weight on user’s recent rating and a lower weight on user’s past ratings based on the timestamp of the ratings.\n",
    "#### iii. Potential Improvement ####\n",
    "$\\qquad$ An improved model could be a model that also take timestamp as consideration. In order to take user preferences change into account, we can assign a larger weight on  users’ recent rating and a smaller weight on user’s past rating."
   ]
  },
  {
   "cell_type": "code",
   "execution_count": null,
   "metadata": {},
   "outputs": [],
   "source": []
  }
 ],
 "metadata": {
  "kernelspec": {
   "display_name": "Python 3",
   "language": "python",
   "name": "python3"
  },
  "language_info": {
   "codemirror_mode": {
    "name": "ipython",
    "version": 3
   },
   "file_extension": ".py",
   "mimetype": "text/x-python",
   "name": "python",
   "nbconvert_exporter": "python",
   "pygments_lexer": "ipython3",
   "version": "3.7.3"
  }
 },
 "nbformat": 4,
 "nbformat_minor": 2
}
